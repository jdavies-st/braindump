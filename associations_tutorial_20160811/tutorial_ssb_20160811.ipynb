{
 "cells": [
  {
   "cell_type": "markdown",
   "metadata": {},
   "source": [
    "# Overview"
   ]
  },
  {
   "cell_type": "markdown",
   "metadata": {},
   "source": [
    "- Why Associations? Because observations are complicated\n",
    "- Go over the [Jan'16 review slides](http://localhost:8888/files/Asn-Review-201601-generator.pptx)."
   ]
  },
  {
   "cell_type": "markdown",
   "metadata": {},
   "source": [
    "# Example"
   ]
  },
  {
   "cell_type": "markdown",
   "metadata": {},
   "source": [
    "## Create some associations"
   ]
  },
  {
   "cell_type": "code",
   "execution_count": null,
   "metadata": {
    "collapsed": false
   },
   "outputs": [],
   "source": [
    "%%bash\n",
    "asn_generate -h"
   ]
  },
  {
   "cell_type": "code",
   "execution_count": null,
   "metadata": {
    "collapsed": false,
    "scrolled": false
   },
   "outputs": [],
   "source": [
    "%%bash\n",
    "rm -f *.json\n",
    "asn_generate -v mega_pool.csv"
   ]
  },
  {
   "cell_type": "code",
   "execution_count": null,
   "metadata": {
    "collapsed": false
   },
   "outputs": [],
   "source": [
    "%%bash\n",
    "ls *.json"
   ]
  },
  {
   "cell_type": "markdown",
   "metadata": {},
   "source": [
    "### Association Types\n",
    "\n",
    "The types equate or indicate what type of Level 3 processing should be done:\n",
    "- image\n",
    "  - CALIMAGE3\n",
    "- spec\n",
    "  - CALSPEC3\n",
    "- ami\n",
    "- coron\n",
    "- tso\n",
    "- wfs"
   ]
  },
  {
   "cell_type": "markdown",
   "metadata": {},
   "source": [
    "## Read some associations"
   ]
  },
  {
   "cell_type": "code",
   "execution_count": null,
   "metadata": {
    "collapsed": true
   },
   "outputs": [],
   "source": [
    "from jwst.associations import Association"
   ]
  },
  {
   "cell_type": "code",
   "execution_count": null,
   "metadata": {
    "collapsed": true
   },
   "outputs": [],
   "source": [
    "from glob import glob\n",
    "asn_file = glob('jw99009_*_image_001_asn.json')[0]\n",
    "with open(asn_file, 'r') as f:\n",
    "    asn = Association.load(f)"
   ]
  },
  {
   "cell_type": "code",
   "execution_count": null,
   "metadata": {
    "collapsed": false,
    "scrolled": true
   },
   "outputs": [],
   "source": [
    "asn"
   ]
  },
  {
   "cell_type": "markdown",
   "metadata": {},
   "source": [
    "## The ~~Naughty~~ Important Bits"
   ]
  },
  {
   "cell_type": "markdown",
   "metadata": {},
   "source": [
    "### Output file names"
   ]
  },
  {
   "cell_type": "code",
   "execution_count": null,
   "metadata": {
    "collapsed": false
   },
   "outputs": [],
   "source": [
    "asn['products'][0]"
   ]
  },
  {
   "cell_type": "code",
   "execution_count": null,
   "metadata": {
    "collapsed": false
   },
   "outputs": [],
   "source": [
    "asn['products'][0]['name']"
   ]
  },
  {
   "cell_type": "markdown",
   "metadata": {},
   "source": [
    "[Current list of product types](https://confluence.stsci.edu/display/JWSTCC/Archive+Products)\n",
    "\n",
    "Level 3 modules must replace `product_type` with the appropriate suffix, such as `i2d` or `s3d`"
   ]
  },
  {
   "cell_type": "code",
   "execution_count": null,
   "metadata": {
    "collapsed": false
   },
   "outputs": [],
   "source": [
    "output_fname = asn['products'][0]['name'].format(product_type='i2d')\n",
    "output_fname"
   ]
  },
  {
   "cell_type": "markdown",
   "metadata": {
    "collapsed": true
   },
   "source": [
    "### Members"
   ]
  },
  {
   "cell_type": "code",
   "execution_count": null,
   "metadata": {
    "collapsed": false
   },
   "outputs": [],
   "source": [
    "asn['products'][0]['members']"
   ]
  },
  {
   "cell_type": "code",
   "execution_count": null,
   "metadata": {
    "collapsed": false
   },
   "outputs": [],
   "source": [
    "asn['products'][0]['members'][0]"
   ]
  },
  {
   "cell_type": "markdown",
   "metadata": {},
   "source": [
    "### Other info"
   ]
  },
  {
   "cell_type": "code",
   "execution_count": null,
   "metadata": {
    "collapsed": false
   },
   "outputs": [],
   "source": [
    "print(asn['asn_type'])\n",
    "print(asn['targname'])\n",
    "print(asn['program'])"
   ]
  },
  {
   "cell_type": "markdown",
   "metadata": {},
   "source": [
    "# Association Candidates"
   ]
  },
  {
   "cell_type": "markdown",
   "metadata": {},
   "source": [
    "Current levels:\n",
    "- observation: oXXX\n",
    "- association candidate: cXXXX\n",
    "  - mosaics\n",
    "  - coronographic\n",
    "  - ami\n",
    "- cross-candidate: aXXXX\n",
    "\n",
    "Reason: Reduce pipeline churn"
   ]
  },
  {
   "cell_type": "markdown",
   "metadata": {},
   "source": [
    "# API"
   ]
  },
  {
   "cell_type": "markdown",
   "metadata": {},
   "source": [
    "The command line equivalence is provided by the Main class:"
   ]
  },
  {
   "cell_type": "code",
   "execution_count": null,
   "metadata": {
    "collapsed": true
   },
   "outputs": [],
   "source": [
    "from jwst.associations.main import Main"
   ]
  },
  {
   "cell_type": "code",
   "execution_count": null,
   "metadata": {
    "collapsed": false
   },
   "outputs": [],
   "source": [
    "generated = Main(['-v', 'mega_pool.csv'])"
   ]
  },
  {
   "cell_type": "code",
   "execution_count": null,
   "metadata": {
    "collapsed": false
   },
   "outputs": [],
   "source": [
    "generated.associations"
   ]
  },
  {
   "cell_type": "code",
   "execution_count": null,
   "metadata": {
    "collapsed": false
   },
   "outputs": [],
   "source": [
    "generated.orphaned"
   ]
  },
  {
   "cell_type": "code",
   "execution_count": null,
   "metadata": {
    "collapsed": false
   },
   "outputs": [],
   "source": [
    "generated.pool"
   ]
  },
  {
   "cell_type": "code",
   "execution_count": null,
   "metadata": {
    "collapsed": false
   },
   "outputs": [],
   "source": [
    "generated.rules"
   ]
  },
  {
   "cell_type": "markdown",
   "metadata": {},
   "source": [
    "## API: The Nitty-Gritty"
   ]
  },
  {
   "cell_type": "markdown",
   "metadata": {},
   "source": [
    "The pedal-to-the-metal classes are:"
   ]
  },
  {
   "cell_type": "code",
   "execution_count": null,
   "metadata": {
    "collapsed": true
   },
   "outputs": [],
   "source": [
    "from jwst.associations import (AssociationRegistry, AssociationPool, generate)"
   ]
  },
  {
   "cell_type": "markdown",
   "metadata": {},
   "source": [
    "And, to produce associations:"
   ]
  },
  {
   "cell_type": "code",
   "execution_count": null,
   "metadata": {
    "collapsed": true
   },
   "outputs": [],
   "source": [
    "rules = AssociationRegistry()"
   ]
  },
  {
   "cell_type": "code",
   "execution_count": null,
   "metadata": {
    "collapsed": false
   },
   "outputs": [],
   "source": [
    "pool = AssociationPool.read('mega_pool.csv')"
   ]
  },
  {
   "cell_type": "code",
   "execution_count": null,
   "metadata": {
    "collapsed": true
   },
   "outputs": [],
   "source": [
    "asns, orphaned = generate(pool, rules)"
   ]
  },
  {
   "cell_type": "code",
   "execution_count": null,
   "metadata": {
    "collapsed": false
   },
   "outputs": [],
   "source": [
    "len(asns)"
   ]
  },
  {
   "cell_type": "code",
   "execution_count": null,
   "metadata": {
    "collapsed": false
   },
   "outputs": [],
   "source": [
    "for asn in asns:\n",
    "    print('Type={}, product name={}'.format(asn['asn_type'], asn['products'][0]['name']))"
   ]
  },
  {
   "cell_type": "code",
   "execution_count": null,
   "metadata": {
    "collapsed": false
   },
   "outputs": [],
   "source": [
    "orphaned"
   ]
  },
  {
   "cell_type": "markdown",
   "metadata": {},
   "source": [
    "# Outline"
   ]
  },
  {
   "cell_type": "markdown",
   "metadata": {
    "collapsed": true
   },
   "source": [
    "- What\n",
    "  - How the Instruments work (you should know this)\n",
    "  - Observations: Not just a click of the shutter\n",
    "  - Signal to Noise: IR's greatest enemy\n",
    "- Resources\n",
    "  - The SDR#4\n",
    "- Start with the Business End: The Association\n",
    "  - Just a list of stuff\n",
    "  - DMS Requirements: The Rules Must Be Obeyed\n",
    "  - Level 2\n",
    "    - Not to worry, yet (right Howard)\n",
    "  - Level 3\n",
    "    - Defines the input to Level 3 modules\n",
    "    - Everyone knows your name\n",
    "    - Product type\n",
    "    - Schema\n",
    "    - Example\n",
    "    - Association Types\n",
    "      - The List\n",
    "      - AA Needs YOU!\n",
    "  - Association Candidates\n",
    "    - Observation, Candidates, Cross-Observation\n",
    "- How To\n",
    "  - asn_generate\n",
    "  - API\n",
    "- So, How Did We Get Here?\n",
    "  - Glorified Map 'N Reduce\n",
    "    - O(N\\*M)\n",
    "  - The Main\n",
    "    - Show the code\n",
    "  - The Parts\n",
    "    - generate()\n",
    "      - code\n",
    "    - AssociationPool\n",
    "      - The PoolMaker\n",
    "      - astropy.Table\n",
    "      - Row == Member\n",
    "    - AssociationRegistry\n",
    "      - The list of association rules\n",
    "    - Association\n",
    "      - Rule and Container\n",
    "      - Self-defining\n",
    "        - Common methods\n",
    "        - Storage: All Members that fit\n",
    "      - Just Classes\n",
    "        - Examples\n",
    "      - Constraints\n",
    "        - regex is your friend\n",
    "      - Separable and define your own\n",
    "- The Future\n",
    "  - User-level\n",
    "  - Maybe a language ALA CRDS\n",
    "  - More DMS: Level 4, 5, and Beyond"
   ]
  },
  {
   "cell_type": "code",
   "execution_count": null,
   "metadata": {
    "collapsed": true
   },
   "outputs": [],
   "source": []
  }
 ],
 "metadata": {
  "kernelspec": {
   "display_name": "Python 3",
   "language": "python",
   "name": "python3"
  },
  "language_info": {
   "codemirror_mode": {
    "name": "ipython",
    "version": 3
   },
   "file_extension": ".py",
   "mimetype": "text/x-python",
   "name": "python",
   "nbconvert_exporter": "python",
   "pygments_lexer": "ipython3",
   "version": "3.5.1"
  }
 },
 "nbformat": 4,
 "nbformat_minor": 0
}
