{
 "cells": [
  {
   "cell_type": "code",
   "execution_count": 28,
   "metadata": {},
   "outputs": [],
   "source": [
    "from astroquery.mast import Observations"
   ]
  },
  {
   "cell_type": "code",
   "execution_count": null,
   "metadata": {},
   "outputs": [],
   "source": [
    "obsTable = Observations.query_criteria(project='HST',filters='F160W',instrument_name='WFC3/IR')"
   ]
  },
  {
   "cell_type": "code",
   "execution_count": 30,
   "metadata": {},
   "outputs": [],
   "source": [
    "products = Observations.get_product_list(obsTable[:100])"
   ]
  },
  {
   "cell_type": "code",
   "execution_count": 31,
   "metadata": {},
   "outputs": [],
   "source": [
    "filtered_products = Observations.filter_products(products,mrp_only=False,productSubGroupDescription='DRZ')"
   ]
  },
  {
   "cell_type": "code",
   "execution_count": 33,
   "metadata": {},
   "outputs": [
    {
     "name": "stdout",
     "output_type": "stream",
     "text": [
      "INFO: Using the S3 HST public dataset [astroquery.mast.core]\n",
      "INFO: See Request Pricing in https://aws.amazon.com/s3/pricing/ for details [astroquery.mast.core]\n",
      "INFO: If you have not configured boto3, follow the instructions here: https://boto3.readthedocs.io/en/latest/guide/configuration.html [astroquery.mast.core]\n"
     ]
    },
    {
     "name": "stderr",
     "output_type": "stream",
     "text": [
      "WARNING: Your AWS account will be charged for access to the S3 bucket [astroquery.mast.core]\n"
     ]
    }
   ],
   "source": [
    "Observations.enable_s3_hst_dataset()"
   ]
  },
  {
   "cell_type": "code",
   "execution_count": 34,
   "metadata": {},
   "outputs": [],
   "source": [
    "s3_urls = Observations.get_hst_s3_uris(filtered_products)"
   ]
  },
  {
   "cell_type": "code",
   "execution_count": 35,
   "metadata": {},
   "outputs": [
    {
     "data": {
      "text/plain": [
       "['s3://stpubdata/hst/public/icde/icde43l0q/icde43l0q_drz.fits',\n",
       " 's3://stpubdata/hst/public/icde/icde43l1q/icde43l1q_drz.fits',\n",
       " 's3://stpubdata/hst/public/icde/icde43l2q/icde43l2q_drz.fits',\n",
       " 's3://stpubdata/hst/public/icde/icde43l3q/icde43l3q_drz.fits',\n",
       " 's3://stpubdata/hst/public/icde/icde43l4q/icde43l4q_drz.fits',\n",
       " 's3://stpubdata/hst/public/icdu/icdu01npq/icdu01npq_drz.fits',\n",
       " 's3://stpubdata/hst/public/icdu/icdu36ecq/icdu36ecq_drz.fits',\n",
       " 's3://stpubdata/hst/public/icdx/icdx1ygxq/icdx1ygxq_drz.fits',\n",
       " 's3://stpubdata/hst/public/icdx/icdx1zxhq/icdx1zxhq_drz.fits',\n",
       " 's3://stpubdata/hst/public/icdx/icdx2axuq/icdx2axuq_drz.fits']"
      ]
     },
     "execution_count": 35,
     "metadata": {},
     "output_type": "execute_result"
    }
   ],
   "source": [
    "s3_urls[:10]"
   ]
  },
  {
   "cell_type": "code",
   "execution_count": 36,
   "metadata": {},
   "outputs": [],
   "source": [
    "import boto3\n",
    "import json"
   ]
  },
  {
   "cell_type": "code",
   "execution_count": 37,
   "metadata": {},
   "outputs": [],
   "source": [
    "# Auth to create a Lambda function (credentials are picked up from .boto file in home directory)\n",
    "session = boto3.Session(profile_name='lambda-invoker')\n",
    "client = session.client('lambda', region_name='us-east-1')"
   ]
  },
  {
   "cell_type": "code",
   "execution_count": 25,
   "metadata": {},
   "outputs": [],
   "source": [
    "# Create a Lambda function.\n",
    "response = client.create_function(\n",
    "    FunctionName='Astrometry9d66002',\n",
    "    Runtime='python2.7',\n",
    "    Role='arn:aws:iam::793754315137:role/AstropyLambdaRole',\n",
    "    Handler='process.handler',\n",
    "    Code={\n",
    "        'S3Bucket': 'dsmo-lambda-functions',\n",
    "        'S3Key': '9d66002.zip'\n",
    "    },\n",
    "    Description='Testing Lambda astrometry from JuypyterLab!',\n",
    "    Timeout=300,\n",
    "    MemorySize=1024,\n",
    "    Publish=True\n",
    ")"
   ]
  },
  {
   "cell_type": "code",
   "execution_count": 38,
   "metadata": {},
   "outputs": [],
   "source": [
    "# Loop through the URLs for the data on S3\n",
    "for url in s3_urls:\n",
    "    fits_s3_key = url.replace(\"s3://stpubdata/\", \"\")\n",
    "    event = {\n",
    "          'fits_s3_key': fits_s3_key,\n",
    "          'fits_s3_bucket': 'stpubdata',\n",
    "          's3_output_bucket': 'dsmo-lambda-test-outputs'\n",
    "        }\n",
    "    \n",
    "    # Invoke Lambda function\n",
    "    response = client.invoke(\n",
    "        FunctionName='Astrometry9d66002',\n",
    "        InvocationType='Event',\n",
    "        LogType='Tail',\n",
    "        Payload=json.dumps(event)\n",
    ")"
   ]
  },
  {
   "cell_type": "code",
   "execution_count": null,
   "metadata": {},
   "outputs": [],
   "source": []
  }
 ],
 "metadata": {
  "kernelspec": {
   "display_name": "Python 3",
   "language": "python",
   "name": "python3"
  },
  "language_info": {
   "codemirror_mode": {
    "name": "ipython",
    "version": 3
   },
   "file_extension": ".py",
   "mimetype": "text/x-python",
   "name": "python",
   "nbconvert_exporter": "python",
   "pygments_lexer": "ipython3",
   "version": "3.6.3"
  }
 },
 "nbformat": 4,
 "nbformat_minor": 2
}
